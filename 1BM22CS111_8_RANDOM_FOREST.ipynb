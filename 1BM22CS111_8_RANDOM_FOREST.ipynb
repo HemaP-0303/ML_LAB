{
  "nbformat": 4,
  "nbformat_minor": 0,
  "metadata": {
    "colab": {
      "provenance": [],
      "authorship_tag": "ABX9TyPJfH+GfWc1vNH1b/+2ZTgX",
      "include_colab_link": true
    },
    "kernelspec": {
      "name": "python3",
      "display_name": "Python 3"
    },
    "language_info": {
      "name": "python"
    }
  },
  "cells": [
    {
      "cell_type": "markdown",
      "metadata": {
        "id": "view-in-github",
        "colab_type": "text"
      },
      "source": [
        "<a href=\"https://colab.research.google.com/github/HemaP-0303/ML_LAB/blob/main/1BM22CS111_8_RANDOM_FOREST.ipynb\" target=\"_parent\"><img src=\"https://colab.research.google.com/assets/colab-badge.svg\" alt=\"Open In Colab\"/></a>"
      ]
    },
    {
      "cell_type": "code",
      "source": [
        "from sklearn.datasets import load_iris\n",
        "from sklearn.ensemble import RandomForestClassifier\n",
        "from sklearn.model_selection import train_test_split\n",
        "from sklearn.metrics import accuracy_score, classification_report\n",
        "\n",
        "# Load dataset\n",
        "iris = load_iris()\n",
        "X = iris.data\n",
        "y = iris.target\n",
        "target_names = iris.target_names\n",
        "\n",
        "# Split (80% training, 20% testing)\n",
        "X_train, X_test, y_train, y_test = train_test_split(\n",
        "    X, y, test_size=0.2, random_state=42\n",
        ")\n",
        "\n",
        "# Random Forest with optimized parameters\n",
        "clf = RandomForestClassifier(\n",
        "    n_estimators=200,        # More trees\n",
        "    max_depth=5,             # Limit tree depth\n",
        "    min_samples_split=2,\n",
        "    random_state=42\n",
        ")\n",
        "clf.fit(X_train, y_train)\n",
        "\n",
        "# Predict and evaluate\n",
        "y_pred = clf.predict(X_test)\n",
        "accuracy = accuracy_score(y_test, y_pred)\n",
        "\n",
        "print(\" Accuracy:\", round(accuracy * 100, 2), \"%\")\n",
        "print(\"\\nClassification Report:\\n\", classification_report(y_test, y_pred))\n",
        "\n",
        "# Sample prediction\n",
        "sample_input = X_test[0].reshape(1, -1)\n",
        "sample_true_label = y_test[0]\n",
        "sample_pred_label = clf.predict(sample_input)[0]\n",
        "sample_pred_proba = clf.predict_proba(sample_input)[0]\n",
        "\n",
        "print(\"\\n🔍 Sample Prediction\")\n",
        "print(\"Input Features:\", sample_input[0])\n",
        "print(\"True Class:\", target_names[sample_true_label])\n",
        "print(\"Predicted Class:\", target_names[sample_pred_label])\n",
        "print(\"Prediction Probabilities:\")\n",
        "for i, prob in enumerate(sample_pred_proba):\n",
        "    print(f\"  {target_names[i]}: {prob:.2f}\")\n"
      ],
      "metadata": {
        "colab": {
          "base_uri": "https://localhost:8080/"
        },
        "id": "vd_Jf5TEnok4",
        "outputId": "6fd50464-9893-4cb4-dfb2-c5bf6e2ad1dc"
      },
      "execution_count": null,
      "outputs": [
        {
          "output_type": "stream",
          "name": "stdout",
          "text": [
            " Accuracy: 100.0 %\n",
            "\n",
            "Classification Report:\n",
            "               precision    recall  f1-score   support\n",
            "\n",
            "           0       1.00      1.00      1.00        10\n",
            "           1       1.00      1.00      1.00         9\n",
            "           2       1.00      1.00      1.00        11\n",
            "\n",
            "    accuracy                           1.00        30\n",
            "   macro avg       1.00      1.00      1.00        30\n",
            "weighted avg       1.00      1.00      1.00        30\n",
            "\n",
            "\n",
            "🔍 Sample Prediction\n",
            "Input Features: [6.1 2.8 4.7 1.2]\n",
            "True Class: versicolor\n",
            "Predicted Class: versicolor\n",
            "Prediction Probabilities:\n",
            "  setosa: 0.00\n",
            "  versicolor: 0.98\n",
            "  virginica: 0.02\n"
          ]
        }
      ]
    }
  ]
}